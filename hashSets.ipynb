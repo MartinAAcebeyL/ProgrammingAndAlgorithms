{
 "cells": [
  {
   "cell_type": "markdown",
   "metadata": {},
   "source": [
    "# What's a Hast sets\n",
    "A hash set is a data structure that implements the set abstract data type, storing keys without any particular order, and without any repeated elements. It is a collection of elements where each element is unique.\n",
    "\n",
    "A hash function, in its simplest terms, is a specific function that takes an input (also known as a 'message') and returns a fixed-size string of bytes. The \"magic\" here is that every unique input will produce a unique output. Therefore, the same input will always yield the same output. However, different inputs usually generate different outputs.\n",
    "\n",
    "## Example"
   ]
  },
  {
   "cell_type": "code",
   "execution_count": 1,
   "metadata": {},
   "outputs": [
    {
     "name": "stdout",
     "output_type": "stream",
     "text": [
      "0\n",
      "2\n"
     ]
    }
   ],
   "source": [
    "def simple_hash(input_string):\n",
    "    summation = sum(ord(ch) for ch in input_string)\n",
    "    return summation % 10  # We limit our hash range from 0 to 9\n",
    "\n",
    "print(simple_hash('Hello'))  # outputs: 0\n",
    "print(simple_hash('world'))  # outputs: 2"
   ]
  },
  {
   "cell_type": "markdown",
   "metadata": {},
   "source": [
    "## Complexity Analysis of Hash Sets\n",
    "We now understand how to use hash sets. Let's examine how efficient our hash set operations are. Suppose we have a hash set with n elements. The computational time for different operations in a hash set includes:\n",
    "\n",
    "- Lookup: O(1) average, O(n) worst case\n",
    "- Insert: O(1) average, O(n) worst case\n",
    "- Delete: O(1) average, O(n) worst case\n",
    "\n",
    "### Example\n",
    "\n"
   ]
  },
  {
   "cell_type": "code",
   "execution_count": 1,
   "metadata": {},
   "outputs": [
    {
     "name": "stdout",
     "output_type": "stream",
     "text": [
      "Hash Set Test Result: False\n",
      "Searching in the Hash Set Took: 9.107589721679688e-05\n",
      "List Test Result: False\n",
      "Searching in the List Took: 0.10349035263061523\n"
     ]
    }
   ],
   "source": [
    "# Define a function to demonstrate the operation and time complexity of a hash set\n",
    "def hash_set_operations():\n",
    "\n",
    "    # Importing the necessary libraries\n",
    "    import time\n",
    "\n",
    "    # Create a hash set and a list\n",
    "    hash_set = set()\n",
    "    list_data = []\n",
    "\n",
    "    # Setting the range for the data elements\n",
    "    data_range = 10**7\n",
    "\n",
    "    # Adding elements to the hash set and the list\n",
    "    for i in range(data_range):\n",
    "        hash_set.add(i)\n",
    "        list_data.append(i)\n",
    "\n",
    "    # Define a test element (which is out of the data range and thus is not present in both the list and set)\n",
    "    test_element = data_range + 1\n",
    "\n",
    "    # Start the clock and check for the presence of the test elements in the set\n",
    "    start_time = time.time()\n",
    "    print(\"Hash Set Test Result:\", test_element in hash_set)\n",
    "    print(\"Searching in the Hash Set Took:\", time.time() - start_time)\n",
    "\n",
    "    # Start the clock and check for the presence of the test elements in the list\n",
    "    start_time = time.time()\n",
    "    print(\"List Test Result:\", test_element in list_data)\n",
    "    print(\"Searching in the List Took:\", time.time() - start_time)\n",
    "\n",
    "\n",
    "# Call the function\n",
    "hash_set_operations()"
   ]
  }
 ],
 "metadata": {
  "kernelspec": {
   "display_name": "Python 3",
   "language": "python",
   "name": "python3"
  },
  "language_info": {
   "codemirror_mode": {
    "name": "ipython",
    "version": 3
   },
   "file_extension": ".py",
   "mimetype": "text/x-python",
   "name": "python",
   "nbconvert_exporter": "python",
   "pygments_lexer": "ipython3",
   "version": "3.11.0"
  }
 },
 "nbformat": 4,
 "nbformat_minor": 2
}
