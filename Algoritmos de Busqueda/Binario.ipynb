{
 "cells": [
  {
   "cell_type": "code",
   "execution_count": 2,
   "metadata": {},
   "outputs": [],
   "source": [
    "import random"
   ]
  },
  {
   "cell_type": "code",
   "execution_count": 42,
   "metadata": {},
   "outputs": [],
   "source": [
    "def recursive_binary_search(lista: list, start: int, end: int, target: int) -> bool:\n",
    "    if start > end:\n",
    "        return False\n",
    "    medio = (start + end) // 2\n",
    "\n",
    "    if lista[medio] == target:\n",
    "        return True\n",
    "    elif lista[medio] < target:\n",
    "        return recursive_binary_search(lista, start=medio + 1, end=end, target=target)\n",
    "    elif lista[medio] > target:\n",
    "        return recursive_binary_search(lista, start=medio, end=start - 1, target=target)"
   ]
  },
  {
   "cell_type": "code",
   "execution_count": 47,
   "metadata": {},
   "outputs": [
    {
     "name": "stdout",
     "output_type": "stream",
     "text": [
      "[0, 2, 3, 5, 6, 8, 8, 9, 9, 10]\n",
      "Encontrado:  False\n"
     ]
    }
   ],
   "source": [
    "lista = sorted([random.randint(0, 10) for _ in range(10)])\n",
    "print(lista)\n",
    "\n",
    "print(\"Encontrado: \", recursive_binary_search(lista, 0, len(lista) - 1, 7))"
   ]
  },
  {
   "cell_type": "code",
   "execution_count": null,
   "metadata": {},
   "outputs": [],
   "source": []
  }
 ],
 "metadata": {
  "kernelspec": {
   "display_name": "Python 3",
   "language": "python",
   "name": "python3"
  },
  "language_info": {
   "codemirror_mode": {
    "name": "ipython",
    "version": 3
   },
   "file_extension": ".py",
   "mimetype": "text/x-python",
   "name": "python",
   "nbconvert_exporter": "python",
   "pygments_lexer": "ipython3",
   "version": "3.10.12"
  }
 },
 "nbformat": 4,
 "nbformat_minor": 2
}
